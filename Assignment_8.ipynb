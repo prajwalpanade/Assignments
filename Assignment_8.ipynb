{
 "cells": [
  {
   "cell_type": "markdown",
   "metadata": {},
   "source": [
    "ASSIGNMENT 8"
   ]
  },
  {
   "cell_type": "raw",
   "metadata": {},
   "source": [
    "#1. Is the Python Standard Library included with PyInputPlus?\n",
    "--> yes it includes pyinputplus library \n",
    "\n",
    "\n",
    "#2. Why is PyInputPlus commonly imported with import pyinputplus as pypi?\n",
    "--> The as pyip code in the import statement saves us from typing pyinputplus each time we want to call a PyInputPlus function.\n",
    "\n",
    "\n",
    "#3. How do you distinguish between inputInt() and inputFloat()?\n",
    "--> where inputInt() takes input as only interger number and inputFloat() takes as float value as input in not it gives error\n",
    "\n",
    "\n",
    "#4. Using PyInputPlus, how do you ensure that the user enters a whole number between 0 and 99?\n",
    "-->by using pyip.inputint(min=1,max=100)\n",
    "\n",
    "\n",
    "#5. What is transferred to the keyword arguments allowRegexes and blockRegexes?\n",
    "-->The allowRegexes and blockRegexes keyword arguments take a list of regular expression strings to determine\n",
    "\n",
    "\n",
    "#6. If a blank input is entered three times, what does inputStr(limit=3) do?\n",
    "--> it raises a RetryLimitException exception.\n",
    "\n",
    "\n",
    "#7. If blank input is entered three times, what does inputStr(limit=3, default=&#39;hello&#39;) do?\n",
    "--> Instead of raising RetryLimitException, the inputstr() function simply returns the string 'hello'."
   ]
  }
 ],
 "metadata": {
  "kernelspec": {
   "display_name": "Python 3",
   "language": "python",
   "name": "python3"
  },
  "language_info": {
   "codemirror_mode": {
    "name": "ipython",
    "version": 3
   },
   "file_extension": ".py",
   "mimetype": "text/x-python",
   "name": "python",
   "nbconvert_exporter": "python",
   "pygments_lexer": "ipython3",
   "version": "3.7.6"
  }
 },
 "nbformat": 4,
 "nbformat_minor": 4
}

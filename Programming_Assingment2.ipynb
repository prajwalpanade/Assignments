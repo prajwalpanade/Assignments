{
 "cells": [
  {
   "cell_type": "markdown",
   "metadata": {},
   "source": [
    "1. Write a Python program to convert kilometers to miles?"
   ]
  },
  {
   "cell_type": "code",
   "execution_count": 1,
   "metadata": {},
   "outputs": [
    {
     "name": "stdout",
     "output_type": "stream",
     "text": [
      "enter kilometer = 5\n",
      "miles = 3.1088549999999997\n"
     ]
    }
   ],
   "source": [
    "km = int(input('enter kilometer = '))       #taking km as input\n",
    "miles = 0.621771 * km                    # 1km = 0.621771\n",
    "print('miles =' ,miles)               "
   ]
  },
  {
   "cell_type": "markdown",
   "metadata": {},
   "source": [
    "2. Write a Python program to convert Celsius to Fahrenheit?"
   ]
  },
  {
   "cell_type": "code",
   "execution_count": 2,
   "metadata": {},
   "outputs": [
    {
     "name": "stdout",
     "output_type": "stream",
     "text": [
      "enter celsius = 6\n",
      "Fahrenheit =  42.8\n"
     ]
    }
   ],
   "source": [
    "cel = int(input('enter celsius = '))\n",
    "far = (cel*(9/5))+32\n",
    "print('Fahrenheit = ',far)"
   ]
  },
  {
   "cell_type": "markdown",
   "metadata": {},
   "source": [
    "3. Write a Python program to display calendar?"
   ]
  },
  {
   "cell_type": "code",
   "execution_count": 3,
   "metadata": {},
   "outputs": [
    {
     "name": "stdout",
     "output_type": "stream",
     "text": [
      "enter year you want 2019\n",
      "enter month 9\n",
      "   September 2019\n",
      "Mo Tu We Th Fr Sa Su\n",
      "                   1\n",
      " 2  3  4  5  6  7  8\n",
      " 9 10 11 12 13 14 15\n",
      "16 17 18 19 20 21 22\n",
      "23 24 25 26 27 28 29\n",
      "30\n",
      "\n"
     ]
    }
   ],
   "source": [
    "import calendar     #importing calender module\n",
    "yy=int(input('enter year you want '))\n",
    "mm=int(input('enter month '))\n",
    "\n",
    "print(calendar.month(yy,mm))"
   ]
  },
  {
   "cell_type": "markdown",
   "metadata": {},
   "source": [
    "4. Write a Python program to solve quadratic equation?"
   ]
  },
  {
   "cell_type": "code",
   "execution_count": 4,
   "metadata": {},
   "outputs": [
    {
     "name": "stdout",
     "output_type": "stream",
     "text": [
      "enter value of a 231\n",
      "enter value of b 65\n",
      "enter value of c 3\n",
      "roots of given equation are (-0.2231996474136187+0j) and (-0.058185633971662695+0j)\n"
     ]
    }
   ],
   "source": [
    "#ax**2+b*x+c=0 root is -b+-sqrt(b**2-4*a*c)/(2*a)\n",
    "import cmath\n",
    "\n",
    "#taking inputs of equation\n",
    "a = float(input('enter value of a '))\n",
    "b = float(input('enter value of b '))\n",
    "c = float(input('enter value of c '))\n",
    "d= (b**2)-(4*a*c)    #calculating discriminiat\n",
    "ans1=(-b-cmath.sqrt(d))/(2*a)  \n",
    "ans2=(-b+cmath.sqrt(d))/(2*a)\n",
    "print('roots of given equation are {} and {}'.format(ans1,ans2))"
   ]
  },
  {
   "cell_type": "markdown",
   "metadata": {},
   "source": [
    "5. Write a Python program to swap two variables without temp variable?"
   ]
  },
  {
   "cell_type": "code",
   "execution_count": 5,
   "metadata": {},
   "outputs": [
    {
     "name": "stdout",
     "output_type": "stream",
     "text": [
      "5 3\n"
     ]
    }
   ],
   "source": [
    "p=3\n",
    "q= 5\n",
    "p,q=q,p\n",
    "print(p,q)"
   ]
  },
  {
   "cell_type": "code",
   "execution_count": null,
   "metadata": {},
   "outputs": [],
   "source": []
  }
 ],
 "metadata": {
  "kernelspec": {
   "display_name": "Python 3",
   "language": "python",
   "name": "python3"
  },
  "language_info": {
   "codemirror_mode": {
    "name": "ipython",
    "version": 3
   },
   "file_extension": ".py",
   "mimetype": "text/x-python",
   "name": "python",
   "nbconvert_exporter": "python",
   "pygments_lexer": "ipython3",
   "version": "3.7.6"
  }
 },
 "nbformat": 4,
 "nbformat_minor": 4
}

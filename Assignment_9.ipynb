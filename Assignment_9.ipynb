{
 "cells": [
  {
   "cell_type": "markdown",
   "metadata": {},
   "source": [
    "ASSIGNEMNT 9"
   ]
  },
  {
   "cell_type": "raw",
   "metadata": {},
   "source": [
    "#1. To what does a relative path refer?\n",
    "--> It means that current working directory\n",
    "\n",
    "\n",
    "#2. What does an absolute path start with your operating system?\n",
    "--> it start with C:\\ \n",
    "\n",
    "\n",
    "#3. What do the functions os.getcwd() and os.chdir() do?\n",
    "--> os.getcwd():-it gives current working directory and os.chdir :- it changes the working direcory \n",
    "\n",
    "\n",
    "#4. What are the . and .. folders?\n",
    "-->The . folder is the current folder, and .. is the parent folder.\n",
    "\n",
    "\n",
    "#5. In C:\\bacon\\eggs\\spam.txt, which part is the dir name, and which part is the base name?\n",
    "--> C:\\bacon\\eggs is directory name and spam.txt is base name\n",
    "\n",
    "\n",
    "#6. What are the three “mode” arguments that can be passed to the open() function?\n",
    "-->The string 'r' for read mode, 'w' for write mode, and 'a' for append mode\n",
    "\n",
    "\n",
    "#7. What happens if an existing file is opened in write mode?\n",
    "-->An existing file opened in write mode is erased and completely overwritten.\n",
    "\n",
    "\n",
    "#8. How do you tell the difference between read() and readlines()?\n",
    "--> The read() method returns the file's entire contents as a single string value. The readlines() method returns a list of strings, where each string is a line from the file's contents.\n",
    "\n",
    "\n",
    "#9. What data structure does a shelf value resemble?\n",
    "-->A shelf value resembles a dictionary value; it has keys and values, along with keys() and values() methods that work similarly to the dictionary methods of the same names."
   ]
  }
 ],
 "metadata": {
  "kernelspec": {
   "display_name": "Python 3",
   "language": "python",
   "name": "python3"
  },
  "language_info": {
   "codemirror_mode": {
    "name": "ipython",
    "version": 3
   },
   "file_extension": ".py",
   "mimetype": "text/x-python",
   "name": "python",
   "nbconvert_exporter": "python",
   "pygments_lexer": "ipython3",
   "version": "3.7.6"
  }
 },
 "nbformat": 4,
 "nbformat_minor": 4
}

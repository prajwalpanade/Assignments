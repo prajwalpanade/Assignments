{
 "cells": [
  {
   "cell_type": "raw",
   "metadata": {},
   "source": [
    "1. How do you distinguish between shutil.copy() and shutil.copytree()?\n",
    "--> shutil.copy() will copy a single file, shutil.copytree will copy an entire folder \n",
    "\n",
    "\n",
    "2. What function is used to rename files??\n",
    "--> rename() file is method used to rename a file or a directory\n",
    "\n",
    "\n",
    "3. What is the difference between the delete functions in the send2trash and shutil modules?\n",
    "--> shutil modules offer function for copying ,moving,renaming, and deleting files. where deleting files you might want to use send to trash module insted of deleting it permently .\n",
    "\n",
    "\n",
    "4.ZipFile objects have a close() method just like File objects’ close() method. What ZipFile method is\n",
    "equivalent to File objects’ open() method?\n",
    "-->\n",
    "\n",
    "\n",
    "\n",
    "5.Create a programme that searches a folder tree for files with a certain file extension (such as .pdf\n",
    "or .jpg). Copy these files from whatever location they are in to a new folder."
   ]
  },
  {
   "cell_type": "code",
   "execution_count": 1,
   "metadata": {},
   "outputs": [],
   "source": [
    "import os"
   ]
  },
  {
   "cell_type": "code",
   "execution_count": 16,
   "metadata": {},
   "outputs": [],
   "source": [
    "for root, dir, files in os.walk(\"D:\\final proj\"):\n",
    "    for file in files:\n",
    "        if file.endswith(\".pdf\"):\n",
    "            print(root+\"/\"+str(file))"
   ]
  },
  {
   "cell_type": "code",
   "execution_count": null,
   "metadata": {},
   "outputs": [],
   "source": []
  }
 ],
 "metadata": {
  "kernelspec": {
   "display_name": "Python 3",
   "language": "python",
   "name": "python3"
  },
  "language_info": {
   "codemirror_mode": {
    "name": "ipython",
    "version": 3
   },
   "file_extension": ".py",
   "mimetype": "text/x-python",
   "name": "python",
   "nbconvert_exporter": "python",
   "pygments_lexer": "ipython3",
   "version": "3.7.6"
  }
 },
 "nbformat": 4,
 "nbformat_minor": 4
}
